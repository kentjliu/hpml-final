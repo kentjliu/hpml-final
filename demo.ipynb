{
  "nbformat": 4,
  "nbformat_minor": 0,
  "metadata": {
    "colab": {
      "provenance": [],
      "gpuType": "T4"
    },
    "kernelspec": {
      "name": "python3",
      "display_name": "Python 3"
    },
    "language_info": {
      "name": "python"
    },
    "accelerator": "GPU"
  },
  "cells": [
    {
      "cell_type": "markdown",
      "source": [
        "### Installation"
      ],
      "metadata": {
        "id": "mQmIv48XxrWa"
      }
    },
    {
      "cell_type": "code",
      "source": [
        "!pip install -q datasets\n",
        "!pip install -q transformers\n",
        "!pip install flash-attn --no-build-isolation\n",
        "!pip install triton"
      ],
      "metadata": {
        "id": "EZFqKqlMxwuY"
      },
      "execution_count": null,
      "outputs": []
    },
    {
      "cell_type": "code",
      "source": [
        "%cd qjl_kernel"
      ],
      "metadata": {
        "id": "e29U1fJQxyz6"
      },
      "execution_count": null,
      "outputs": []
    },
    {
      "cell_type": "code",
      "source": [
        "!python qjl_kernel/setup.py build_ext --inplace"
      ],
      "metadata": {
        "id": "i1oHqjR_x0fW"
      },
      "execution_count": null,
      "outputs": []
    },
    {
      "cell_type": "code",
      "source": [
        "cd .."
      ],
      "metadata": {
        "id": "LXndYPBpx3v4"
      },
      "execution_count": null,
      "outputs": []
    },
    {
      "cell_type": "code",
      "source": [
        "# Set up your Huggingface Token here to load llama models, you need to request to access from Meta first\n",
        "import os\n",
        "os.environ[\"HF_TOKEN\"] = \"YOUR_TOEKN\""
      ],
      "metadata": {
        "id": "vnOwitl7x3x7"
      },
      "execution_count": null,
      "outputs": []
    },
    {
      "cell_type": "markdown",
      "source": [
        "### OPT_QJL"
      ],
      "metadata": {
        "id": "okUFAJHnyX3T"
      }
    },
    {
      "cell_type": "code",
      "source": [
        "!python opt_qjl.py facebook/opt-125m c4 --sparsity 0.5 --qjl_ratio 0.5"
      ],
      "metadata": {
        "id": "E0EneqiDygDC"
      },
      "execution_count": null,
      "outputs": []
    },
    {
      "cell_type": "markdown",
      "source": [
        "### LLaMA_QJL"
      ],
      "metadata": {
        "id": "NC2Q6pPVyl4z"
      }
    },
    {
      "cell_type": "code",
      "source": [
        "!python llama_sparseqjl.py --model_name \"meta-llama/Llama-2-7b-hf\" \\\n",
        "    --dtype \"float16\" \\\n",
        "    --key_quantization_bits 256 \\\n",
        "    --key_quantization_bits_initial_layers 512 \\\n",
        "    --initial_layers_count 15 \\\n",
        "    --outlier_count_general 8 \\\n",
        "    --outlier_count_initial_layers 8 \\\n",
        "    --value_quantization_bits 2 \\\n",
        "    --group_size 32 \\\n",
        "    --buffer_size 128 \\\n",
        "    --seed 42 \\\n",
        "    --dataset_name [dataset_name] \\\n",
        "    --n_data 150 \\\n",
        "    --sparse False \\\n",
        "    --sparsity 0.5 \\\n",
        "    --blocksize 128"
      ],
      "metadata": {
        "id": "0wimVMnTyorw"
      },
      "execution_count": null,
      "outputs": []
    },
    {
      "cell_type": "markdown",
      "source": [
        "### LLaMA_SparseQJL"
      ],
      "metadata": {
        "id": "UA6vD2ANyo6Q"
      }
    },
    {
      "cell_type": "code",
      "source": [
        "!python llama_sparseqjl.py --model_name \"meta-llama/Llama-2-7b-hf\" \\\n",
        "    --dtype \"float16\" \\\n",
        "    --key_quantization_bits 256 \\\n",
        "    --key_quantization_bits_initial_layers 512 \\\n",
        "    --initial_layers_count 15 \\\n",
        "    --outlier_count_general 8 \\\n",
        "    --outlier_count_initial_layers 8 \\\n",
        "    --value_quantization_bits 2 \\\n",
        "    --group_size 32 \\\n",
        "    --buffer_size 128 \\\n",
        "    --seed 42 \\\n",
        "    --dataset_name [dataset_name] \\\n",
        "    --n_data 150 \\\n",
        "    --sparse True \\\n",
        "    --sparsity 0.5 \\\n",
        "    --blocksize 128"
      ],
      "metadata": {
        "id": "nDF61fIfyvZm"
      },
      "execution_count": null,
      "outputs": []
    },
    {
      "cell_type": "code",
      "source": [],
      "metadata": {
        "id": "-DYNmJI2pv84"
      },
      "execution_count": null,
      "outputs": []
    }
  ]
}